{
 "cells": [
  {
   "cell_type": "markdown",
   "metadata": {},
   "source": [
    "## Imports and Functions\n",
    "\n",
    "We begin by loading the necessary packages/modules."
   ]
  },
  {
   "cell_type": "code",
   "execution_count": 1,
   "metadata": {},
   "outputs": [],
   "source": [
    "import os\n",
    "import pandas as pd\n",
    "import numpy as np\n",
    "from statsmodels.formula.api import ols\n",
    "import matplotlib.pyplot as plt"
   ]
  },
  {
   "cell_type": "markdown",
   "metadata": {},
   "source": [
    "## Initialization\n",
    "\n",
    "We define the file paths and load them onto separate dataframes."
   ]
  },
  {
   "cell_type": "code",
   "execution_count": 2,
   "metadata": {},
   "outputs": [],
   "source": [
    "gamma_estimates_csv = os.path.join('..', 'models', 'liq_param', 'liq_summary.csv')\n",
    "adtv_csv = os.path.join('..', 'data', 'processed', 'summary_data.csv')\n",
    "\n",
    "# load the relevant columns\n",
    "gamma_df = pd.read_csv(gamma_estimates_csv, usecols=['Ticker', 'Mean Gamma Estimate'])\n",
    "adtv_df = pd.read_csv(adtv_csv, usecols=['Ticker', 'ADTV'])"
   ]
  },
  {
   "cell_type": "markdown",
   "metadata": {},
   "source": [
    "## Running the Regression\n",
    "\n",
    "We perform a linear regression to calculate the intercept and slope estimates to derive the liquidity parameter from ADTV values."
   ]
  },
  {
   "cell_type": "code",
   "execution_count": 3,
   "metadata": {},
   "outputs": [
    {
     "name": "stdout",
     "output_type": "stream",
     "text": [
      "                            OLS Regression Results                            \n",
      "==============================================================================\n",
      "Dep. Variable:              log_gamma   R-squared:                       0.810\n",
      "Model:                            OLS   Adj. R-squared:                  0.795\n",
      "Method:                 Least Squares   F-statistic:                     55.26\n",
      "Date:                Wed, 20 Mar 2024   Prob (F-statistic):           4.95e-06\n",
      "Time:                        17:27:56   Log-Likelihood:                -21.353\n",
      "No. Observations:                  15   AIC:                             46.71\n",
      "Df Residuals:                      13   BIC:                             48.12\n",
      "Df Model:                           1                                         \n",
      "Covariance Type:            nonrobust                                         \n",
      "==============================================================================\n",
      "                 coef    std err          t      P>|t|      [0.025      0.975]\n",
      "------------------------------------------------------------------------------\n",
      "Intercept     -0.5429      1.034     -0.525      0.608      -2.777       1.691\n",
      "log_adtv      -1.4950      0.201     -7.434      0.000      -1.929      -1.060\n",
      "==============================================================================\n",
      "Omnibus:                        8.997   Durbin-Watson:                   2.364\n",
      "Prob(Omnibus):                  0.011   Jarque-Bera (JB):                5.492\n",
      "Skew:                           1.377   Prob(JB):                       0.0642\n",
      "Kurtosis:                       4.097   Cond. No.                         19.8\n",
      "==============================================================================\n",
      "\n",
      "Notes:\n",
      "[1] Standard Errors assume that the covariance matrix of the errors is correctly specified.\n"
     ]
    },
    {
     "name": "stderr",
     "output_type": "stream",
     "text": [
      "c:\\Users\\Diana\\miniforge3\\envs\\riskmanagement\\Lib\\site-packages\\scipy\\stats\\_stats_py.py:1806: UserWarning: kurtosistest only valid for n>=20 ... continuing anyway, n=15\n",
      "  warnings.warn(\"kurtosistest only valid for n>=20 ... continuing \"\n"
     ]
    }
   ],
   "source": [
    "# calc logs\n",
    "gamma_df['log_gamma'] = np.log10(gamma_df['Mean Gamma Estimate'])\n",
    "adtv_df['log_adtv'] = np.log10(adtv_df['ADTV'])\n",
    "\n",
    "# merge on ticker\n",
    "merged_df = pd.merge(gamma_df, adtv_df, on='Ticker')\n",
    "\n",
    "# fit model\n",
    "result = ols(formula=\"log_gamma ~ log_adtv\", data=merged_df).fit()\n",
    "\n",
    "# print results\n",
    "print(result.summary())"
   ]
  },
  {
   "cell_type": "code",
   "execution_count": 4,
   "metadata": {},
   "outputs": [
    {
     "name": "stdout",
     "output_type": "stream",
     "text": [
      "Estimated intercept a: -0.5428665124749155\n",
      "Estimated slope b: -1.494956715216012\n"
     ]
    }
   ],
   "source": [
    "# extract estimates\n",
    "a_hat = result.params['Intercept']\n",
    "b_hat = result.params['log_adtv']\n",
    "\n",
    "print(f'Estimated intercept a: {a_hat}')\n",
    "print(f'Estimated slope b: {b_hat}')"
   ]
  },
  {
   "cell_type": "markdown",
   "metadata": {},
   "source": [
    "## Displaying Regression Results\n",
    "\n",
    "We display the regression results in a plot."
   ]
  },
  {
   "cell_type": "code",
   "execution_count": 5,
   "metadata": {},
   "outputs": [
    {
     "data": {
      "image/png": "[encoded data removed]",
      "text/plain": [
       "<Figure size 640x480 with 1 Axes>"
      ]
     },
     "metadata": {},
     "output_type": "display_data"
    }
   ],
   "source": [
    "# plot observations\n",
    "plt.scatter(merged_df['log_adtv'], merged_df['log_gamma'], label='Observations', marker='s', color='w', edgecolors='r')\n",
    "\n",
    "# generate ADTV values to predict on\n",
    "adtv_range = np.linspace(merged_df['log_adtv'].min(), merged_df['log_adtv'].max(), 100)\n",
    "\n",
    "# predict gamma\n",
    "predicted_gamma = a_hat + b_hat * adtv_range\n",
    "\n",
    "# plot\n",
    "plt.plot(adtv_range, predicted_gamma, label='a+bx', color='blue')\n",
    "plt.xlabel('$log_{10}ADTV$')\n",
    "plt.ylabel('$log_{10}\\\\gamma$')\n",
    "\n",
    "plt.legend()\n",
    "\n",
    "ax = plt.gca()\n",
    "textstr = f'$\\\\hat{{a}} = {a_hat:.5f}$\\n$\\\\hat{{b}} = {b_hat:.5f}$'\n",
    "props = dict(boxstyle='round', facecolor='gray', alpha=0.5)\n",
    "\n",
    "ax.text(0.775, 0.8, textstr, transform=ax.transAxes, fontsize=10,\n",
    "        verticalalignment='top', bbox=props)\n",
    "\n",
    "plt.savefig(os.path.join('..', 'reports', 'figures', 'adtv_reg.svg'), bbox_inches='tight')\n",
    "plt.show()"
   ]
  }
 ],
 "metadata": {
  "kernelspec": {
   "display_name": "riskmanagement",
   "language": "python",
   "name": "python3"
  },
  "language_info": {
   "codemirror_mode": {
    "name": "ipython",
    "version": 3
   },
   "file_extension": ".py",
   "mimetype": "text/x-python",
   "name": "python",
   "nbconvert_exporter": "python",
   "pygments_lexer": "ipython3",
   "version": "3.12.0"
  }
 },
 "nbformat": 4,
 "nbformat_minor": 2
}
