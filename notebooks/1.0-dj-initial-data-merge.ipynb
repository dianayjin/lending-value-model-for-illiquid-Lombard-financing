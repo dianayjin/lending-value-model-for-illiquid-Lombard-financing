{
 "cells": [
  {
   "cell_type": "markdown",
   "metadata": {},
   "source": [
    "## Imports and Functions\n",
    "\n",
    "We begin by loading the necessary packages/modules and define a function to merge the data pulled from Refinitiv in the [`tick`](<..\\data\\raw\\tick>) file directory."
   ]
  },
  {
   "cell_type": "code",
   "execution_count": 2,
   "metadata": {},
   "outputs": [],
   "source": [
    "import os\n",
    "import pandas as pd\n",
    "\n",
    "def concat_excel(directory):\n",
    "    \"\"\"\n",
    "    Concatenates all Excel files (.xlsx) in a given directory into a single DataFrame.\n",
    "\n",
    "    Args:\n",
    "    directory (str): Path to the directory containing the Excel files.\n",
    "\n",
    "    Returns:\n",
    "    pandas DataFrame: A DataFrame containing the concatenated data from all Excel files in \n",
    "        the directory. Assumes the data starts from the 7th row (header=6) in each file.\n",
    "    \"\"\"\n",
    "    concatenated_df = pd.DataFrame()\n",
    "\n",
    "    # loop through all files in the directory\n",
    "    for file in os.listdir(directory):        \n",
    "        if file.endswith('.xlsx'):\n",
    "            file_path = os.path.join(directory, file)\n",
    "            df = pd.read_excel(file_path, header=6) # change header position\n",
    "            concatenated_df = pd.concat([concatenated_df, df], ignore_index=True)\n",
    "\n",
    "    return concatenated_df"
   ]
  },
  {
   "cell_type": "markdown",
   "metadata": {},
   "source": [
    "## Merging intraday tick data\n",
    "\n",
    "We merge the raw tick data (from 21.12.2023 to 18.03.2024) of the three different cohorts (made up of 15 SWX equities separated by liquidity level) in the [`tick`](<..\\data\\raw\\tick>) file directory before proceeding to the final merge into one dataset. The process is separated by cohorts as each merge takes a few minutes."
   ]
  },
  {
   "cell_type": "code",
   "execution_count": 3,
   "metadata": {},
   "outputs": [],
   "source": [
    "df = concat_excel(os.path.join('..', 'data', 'raw', 'tick', 'high'))\n",
    "df.to_csv(os.path.join('..', 'data', 'interim', 'prelim merge', 'merge1.csv'))"
   ]
  },
  {
   "cell_type": "code",
   "execution_count": 4,
   "metadata": {},
   "outputs": [],
   "source": [
    "df = concat_excel(os.path.join('..', 'data', 'raw', 'tick', 'medium'))\n",
    "df.to_csv(os.path.join('..', 'data', 'interim', 'prelim merge', 'merge2.csv'))"
   ]
  },
  {
   "cell_type": "code",
   "execution_count": 5,
   "metadata": {},
   "outputs": [],
   "source": [
    "df = concat_excel(os.path.join('..', 'data', 'raw', 'tick', 'low'))\n",
    "df.to_csv(os.path.join('..', 'data', 'interim', 'prelim merge', 'merge3.csv'))"
   ]
  },
  {
   "cell_type": "code",
   "execution_count": 6,
   "metadata": {},
   "outputs": [
    {
     "name": "stderr",
     "output_type": "stream",
     "text": [
      "C:\\Users\\Diana\\AppData\\Local\\Temp\\ipykernel_5320\\3812361122.py:6: DtypeWarning: Columns (11) have mixed types. Specify dtype option on import or set low_memory=False.\n",
      "  df = pd.read_csv(file_path)\n",
      "C:\\Users\\Diana\\AppData\\Local\\Temp\\ipykernel_5320\\3812361122.py:6: DtypeWarning: Columns (11) have mixed types. Specify dtype option on import or set low_memory=False.\n",
      "  df = pd.read_csv(file_path)\n",
      "C:\\Users\\Diana\\AppData\\Local\\Temp\\ipykernel_5320\\3812361122.py:6: DtypeWarning: Columns (14) have mixed types. Specify dtype option on import or set low_memory=False.\n",
      "  df = pd.read_csv(file_path)\n"
     ]
    },
    {
     "data": {
      "text/html": [
       "<div>\n",
       "<style scoped>\n",
       "    .dataframe tbody tr th:only-of-type {\n",
       "        vertical-align: middle;\n",
       "    }\n",
       "\n",
       "    .dataframe tbody tr th {\n",
       "        vertical-align: top;\n",
       "    }\n",
       "\n",
       "    .dataframe thead th {\n",
       "        text-align: right;\n",
       "    }\n",
       "</style>\n",
       "<table border=\"1\" class=\"dataframe\">\n",
       "  <thead>\n",
       "    <tr style=\"text-align: right;\">\n",
       "      <th></th>\n",
       "      <th>Unnamed: 0</th>\n",
       "      <th>RIC</th>\n",
       "      <th>Timestamp</th>\n",
       "      <th>Tick</th>\n",
       "      <th>Last Trade</th>\n",
       "      <th>Volume</th>\n",
       "      <th>VWAP</th>\n",
       "      <th>Bid</th>\n",
       "      <th>Ask</th>\n",
       "      <th>Flow</th>\n",
       "      <th>Calc VWAP</th>\n",
       "      <th>Venue</th>\n",
       "      <th>Bid Size</th>\n",
       "      <th>Ask Size</th>\n",
       "      <th>Turnover</th>\n",
       "    </tr>\n",
       "  </thead>\n",
       "  <tbody>\n",
       "    <tr>\n",
       "      <th>0</th>\n",
       "      <td>0</td>\n",
       "      <td>ABBN.S</td>\n",
       "      <td>21-Dec-2023 17:40:16.203</td>\n",
       "      <td>DOWN ↓</td>\n",
       "      <td>37.1</td>\n",
       "      <td>1.0</td>\n",
       "      <td>NaN</td>\n",
       "      <td>NaN</td>\n",
       "      <td>NaN</td>\n",
       "      <td>-2.273539e+08</td>\n",
       "      <td>36.886702</td>\n",
       "      <td>NaN</td>\n",
       "      <td>NaN</td>\n",
       "      <td>NaN</td>\n",
       "      <td>NaN</td>\n",
       "    </tr>\n",
       "    <tr>\n",
       "      <th>1</th>\n",
       "      <td>1</td>\n",
       "      <td>ABBN.S</td>\n",
       "      <td>21-Dec-2023 17:40:02.423</td>\n",
       "      <td>NaN</td>\n",
       "      <td>NaN</td>\n",
       "      <td>NaN</td>\n",
       "      <td>NaN</td>\n",
       "      <td>NaN</td>\n",
       "      <td>NaN</td>\n",
       "      <td>-2.273538e+08</td>\n",
       "      <td>36.886702</td>\n",
       "      <td>NaN</td>\n",
       "      <td>NaN</td>\n",
       "      <td>NaN</td>\n",
       "      <td>NaN</td>\n",
       "    </tr>\n",
       "    <tr>\n",
       "      <th>2</th>\n",
       "      <td>2</td>\n",
       "      <td>UBSG.S</td>\n",
       "      <td>21-Dec-2023 17:40:02.422</td>\n",
       "      <td>NaN</td>\n",
       "      <td>NaN</td>\n",
       "      <td>NaN</td>\n",
       "      <td>NaN</td>\n",
       "      <td>NaN</td>\n",
       "      <td>NaN</td>\n",
       "      <td>-8.667000e+09</td>\n",
       "      <td>26.254416</td>\n",
       "      <td>NaN</td>\n",
       "      <td>NaN</td>\n",
       "      <td>NaN</td>\n",
       "      <td>NaN</td>\n",
       "    </tr>\n",
       "    <tr>\n",
       "      <th>3</th>\n",
       "      <td>3</td>\n",
       "      <td>KUD.S</td>\n",
       "      <td>21-Dec-2023 17:40:02.420</td>\n",
       "      <td>NaN</td>\n",
       "      <td>NaN</td>\n",
       "      <td>NaN</td>\n",
       "      <td>NaN</td>\n",
       "      <td>NaN</td>\n",
       "      <td>NaN</td>\n",
       "      <td>6.720380e+03</td>\n",
       "      <td>1.202547</td>\n",
       "      <td>NaN</td>\n",
       "      <td>NaN</td>\n",
       "      <td>NaN</td>\n",
       "      <td>NaN</td>\n",
       "    </tr>\n",
       "    <tr>\n",
       "      <th>4</th>\n",
       "      <td>4</td>\n",
       "      <td>SRENH.S</td>\n",
       "      <td>21-Dec-2023 17:40:02.419</td>\n",
       "      <td>NaN</td>\n",
       "      <td>NaN</td>\n",
       "      <td>NaN</td>\n",
       "      <td>NaN</td>\n",
       "      <td>NaN</td>\n",
       "      <td>NaN</td>\n",
       "      <td>1.430147e+09</td>\n",
       "      <td>94.215826</td>\n",
       "      <td>NaN</td>\n",
       "      <td>NaN</td>\n",
       "      <td>NaN</td>\n",
       "      <td>NaN</td>\n",
       "    </tr>\n",
       "  </tbody>\n",
       "</table>\n",
       "</div>"
      ],
      "text/plain": [
       "   Unnamed: 0      RIC                 Timestamp    Tick  Last Trade  Volume  \\\n",
       "0           0   ABBN.S  21-Dec-2023 17:40:16.203  DOWN ↓        37.1     1.0   \n",
       "1           1   ABBN.S  21-Dec-2023 17:40:02.423     NaN         NaN     NaN   \n",
       "2           2   UBSG.S  21-Dec-2023 17:40:02.422     NaN         NaN     NaN   \n",
       "3           3    KUD.S  21-Dec-2023 17:40:02.420     NaN         NaN     NaN   \n",
       "4           4  SRENH.S  21-Dec-2023 17:40:02.419     NaN         NaN     NaN   \n",
       "\n",
       "   VWAP  Bid  Ask          Flow  Calc VWAP Venue  Bid Size  Ask Size  Turnover  \n",
       "0   NaN  NaN  NaN -2.273539e+08  36.886702   NaN       NaN       NaN       NaN  \n",
       "1   NaN  NaN  NaN -2.273538e+08  36.886702   NaN       NaN       NaN       NaN  \n",
       "2   NaN  NaN  NaN -8.667000e+09  26.254416   NaN       NaN       NaN       NaN  \n",
       "3   NaN  NaN  NaN  6.720380e+03   1.202547   NaN       NaN       NaN       NaN  \n",
       "4   NaN  NaN  NaN  1.430147e+09  94.215826   NaN       NaN       NaN       NaN  "
      ]
     },
     "metadata": {},
     "output_type": "display_data"
    }
   ],
   "source": [
    "dir = os.path.join('..', 'data', 'interim', 'prelim merge')\n",
    "merged_df = pd.DataFrame()\n",
    "for file in os.listdir(dir):        \n",
    "    if file.endswith('.csv'):\n",
    "        file_path = os.path.join(dir, file)\n",
    "        df = pd.read_csv(file_path)\n",
    "        merged_df = pd.concat([merged_df, df], ignore_index=True)\n",
    "merged_df.to_csv(os.path.join('..', 'data', 'interim', 'merged.csv'), index=False)\n",
    "display(merged_df.head(5))"
   ]
  },
  {
   "cell_type": "markdown",
   "metadata": {},
   "source": [
    "## Data cleaning\n",
    "\n",
    "We clean the data by removing unnecessary columns and values and deleting rows that have NaN values in 'Last Trade' and/or 'Volume'."
   ]
  },
  {
   "cell_type": "code",
   "execution_count": 7,
   "metadata": {},
   "outputs": [],
   "source": [
    "# define and keep desired columns\n",
    "columns = ['RIC', 'Timestamp', 'Tick', 'Last Trade', 'Volume']\n",
    "final_df = merged_df[columns].copy()\n",
    "\n",
    "# remove unnecessary arrow sign in 'Tick' and null values\n",
    "final_df['Tick'] =final_df['Tick'].astype(str).str[:-2]\n",
    "final_df.dropna(subset=['Last Trade', 'Volume'], inplace=True)"
   ]
  },
  {
   "cell_type": "markdown",
   "metadata": {},
   "source": [
    "### Check for duplicates\n",
    "\n",
    "We check for duplicates in the columns 'RIC' and 'Timestamp' which indicate simultaneously executed trades and keep the last occurence in each series."
   ]
  },
  {
   "cell_type": "code",
   "execution_count": 8,
   "metadata": {},
   "outputs": [
    {
     "name": "stdout",
     "output_type": "stream",
     "text": [
      "Number of duplicates found: 1662427\n"
     ]
    }
   ],
   "source": [
    "duplicates = final_df.duplicated(subset=['RIC', 'Timestamp'])\n",
    "\n",
    "# count duplicates\n",
    "num_duplicates = duplicates.sum()\n",
    "print(f\"Number of duplicates found: {num_duplicates}\")\n",
    "\n",
    "final_df.drop_duplicates(subset=['RIC', 'Timestamp'], keep='last', inplace=True)\n",
    "final_df.to_csv(os.path.join('..', 'data', 'processed', 'tick_data.csv'), index=False)"
   ]
  }
 ],
 "metadata": {
  "kernelspec": {
   "display_name": "riskmanagement",
   "language": "python",
   "name": "python3"
  },
  "language_info": {
   "codemirror_mode": {
    "name": "ipython",
    "version": 3
   },
   "file_extension": ".py",
   "mimetype": "text/x-python",
   "name": "python",
   "nbconvert_exporter": "python",
   "pygments_lexer": "ipython3",
   "version": "3.12.0"
  }
 },
 "nbformat": 4,
 "nbformat_minor": 2
}
