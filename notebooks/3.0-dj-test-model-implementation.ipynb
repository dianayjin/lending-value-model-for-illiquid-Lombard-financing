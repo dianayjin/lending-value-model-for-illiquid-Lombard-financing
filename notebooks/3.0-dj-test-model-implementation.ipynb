{
 "cells": [
  {
   "cell_type": "markdown",
   "metadata": {},
   "source": [
    "## Imports and Functions\n",
    "\n",
    "We begin by loading the necessary packages/modules and define a function that calculates lending values."
   ]
  },
  {
   "cell_type": "code",
   "execution_count": 1,
   "metadata": {},
   "outputs": [],
   "source": [
    "import numpy as np\n",
    "from scipy.stats import norm\n",
    "\n",
    "def calc_lv(mu, sigma, delta, epsilon, alpha, x, gamma):\n",
    "    \"\"\"\n",
    "    Calculate the liquidity-adjusted lending value.\n",
    "\n",
    "    Args:\n",
    "    mu (float): Expected return.\n",
    "    sigma (float): Volatility of the asset, calculated as the standard deviation of historical asset returns.\n",
    "    delta (float): The response period given to the client to adjust their position after a margin call.\n",
    "    epsilon (float): The risk tolerance level, representing the maximum probability of the collateral value falling below the client exposure.\n",
    "    alpha (float): The threshold level for the margin call.\n",
    "    x (float): The transaction size.\n",
    "    gamma (float): The liquidity parameter.\n",
    "\n",
    "    Returns:\n",
    "    float: The liquidity-adjusted lending value.\n",
    "    \"\"\"\n",
    "    # calc the inverse CDF of the standard normal distribution for epsilon\n",
    "    z_epsilon = norm.ppf(epsilon)\n",
    "\n",
    "    # calc the liquidity-adjusted LV\n",
    "    num = (1 - alpha) * np.exp(-gamma * x + (mu - sigma**2 / 2) * delta + sigma * np.sqrt(delta) * z_epsilon)\n",
    "    denom = 1 - alpha * np.exp(-gamma * x + (mu - sigma**2 / 2) * delta + sigma * np.sqrt(delta) * z_epsilon)\n",
    "    liq_lv = num / denom\n",
    "\n",
    "    return liq_lv"
   ]
  },
  {
   "cell_type": "markdown",
   "metadata": {},
   "source": [
    "## Testing the Model Using Literature Values\n",
    "\n",
    "We then implement the model and test it for accuracy using results in the literature ([`Juri, 2014`](<..\\references\\Juri, Alessandro (2014) Lending Values and Liquidity Risk.txt>)). We find that the results align closely enough with those shown in the paper and move forward with implementation."
   ]
  },
  {
   "cell_type": "code",
   "execution_count": 2,
   "metadata": {},
   "outputs": [
    {
     "name": "stdout",
     "output_type": "stream",
     "text": [
      "Calculated standard lending value for 100000 shares: 91.21%\n",
      "Percentage difference from literature: -0.01%\n",
      "Calculated liquidity-adjusted lending value for 100000 shares: 90.66%\n",
      "Percentage difference from literature: 0.05%\n",
      "\n",
      "Calculated standard lending value for 1000000 shares: 91.21%\n",
      "Percentage difference from literature: -0.01%\n",
      "Calculated liquidity-adjusted lending value for 1000000 shares: 85.85%\n",
      "Percentage difference from literature: 0.05%\n"
     ]
    }
   ],
   "source": [
    "# UBSN parameters\n",
    "sigma = 0.15  # Volatility\n",
    "mu = (sigma**2) / 2 # Expected return\n",
    "delta = 10 / 250  # Response time period in days divided by days in year\n",
    "epsilon = 0.01  # Risk tolerance level\n",
    "alpha = 0.25  # Margin call threshold\n",
    "x = 100000  # Transaction size\n",
    "y = 1000000\n",
    "gamma = 4.672949e-8  # Liquidity parameter\n",
    "lit_x = 0.9061 # Literature value for liquidity-adj LV for size x\n",
    "lit_y = 0.8581 # Literature value for liquidity-adj LV for size y\n",
    "lit_lv = 0.9122 # Literature value for standard LV\n",
    "\n",
    "# calc lending values\n",
    "lv = calc_lv(mu, sigma, delta, epsilon, alpha, 0, gamma) # x = 0 for unadjusted lv\n",
    "liq_lv_x = calc_lv(mu, sigma, delta, epsilon, alpha, x, gamma)\n",
    "liq_lv_y = calc_lv(mu, sigma, delta, epsilon, alpha, y, gamma)\n",
    "\n",
    "# calc % diff from literature values\n",
    "diff_lv = (lv - lit_lv) / lit_lv\n",
    "diff_x = (liq_lv_x - lit_x) / lit_x\n",
    "diff_y = (liq_lv_y - lit_y) / lit_y\n",
    "\n",
    "# output\n",
    "print(f\"Calculated standard lending value for {x} shares: {lv*100:.2f}%\")\n",
    "print(f\"Percentage difference from literature: {diff_lv*100:.2f}%\")\n",
    "print(f\"Calculated liquidity-adjusted lending value for {x} shares: {liq_lv_x*100:.2f}%\")\n",
    "print(f\"Percentage difference from literature: {diff_x*100:.2f}%\")\n",
    "print()\n",
    "print(f\"Calculated standard lending value for {y} shares: {lv*100:.2f}%\")\n",
    "print(f\"Percentage difference from literature: {diff_lv*100:.2f}%\")\n",
    "print(f\"Calculated liquidity-adjusted lending value for {y} shares: {liq_lv_y*100:.2f}%\")\n",
    "print(f\"Percentage difference from literature: {diff_y*100:.2f}%\")"
   ]
  },
  {
   "cell_type": "code",
   "execution_count": 3,
   "metadata": {},
   "outputs": [
    {
     "name": "stdout",
     "output_type": "stream",
     "text": [
      "Calculated standard lending value for 100 shares: 87.96%\n",
      "Percentage difference from literature: -0.10%\n",
      "Calculated liquidity-adjusted lending value for 100 shares: 83.57%\n",
      "Percentage difference from literature: -0.10%\n",
      "\n",
      "Calculated standard lending value for 600 shares: 87.96%\n",
      "Percentage difference from literature: -0.10%\n",
      "Calculated liquidity-adjusted lending value for 600 shares: 65.19%\n",
      "Percentage difference from literature: -0.09%\n"
     ]
    }
   ],
   "source": [
    "# LISN parameters\n",
    "sigma = 0.21  # Volatility\n",
    "mu = (sigma**2) / 2 # Expected return\n",
    "delta = 10 / 250  # Response time period in days divided by days in year\n",
    "epsilon = 0.01  # Risk tolerance level\n",
    "alpha = 0.25  # Margin call threshold\n",
    "x = 100  # Transaction size\n",
    "y = 600\n",
    "gamma = 3.985406e-4  # Liquidity parameter\n",
    "lit_x = 0.8365 # Literature value for liquidity-adj LV for size x\n",
    "lit_y = 0.6525 # Literature value for liquidity-adj LV for size y\n",
    "lit_lv = 0.8805 # Literature value for standard LV\n",
    "\n",
    "# calc lending values\n",
    "lv = calc_lv(mu, sigma, delta, epsilon, alpha, 0, gamma)\n",
    "liq_lv_x = calc_lv(mu, sigma, delta, epsilon, alpha, x, gamma)\n",
    "liq_lv_y = calc_lv(mu, sigma, delta, epsilon, alpha, y, gamma)\n",
    "\n",
    "# calc % diff from literature values\n",
    "diff_lv = (lv - lit_lv) / lit_lv\n",
    "diff_x = (liq_lv_x - lit_x) / lit_x\n",
    "diff_y = (liq_lv_y - lit_y) / lit_y\n",
    "\n",
    "# output\n",
    "print(f\"Calculated standard lending value for {x} shares: {lv*100:.2f}%\")\n",
    "print(f\"Percentage difference from literature: {diff_lv*100:.2f}%\")\n",
    "print(f\"Calculated liquidity-adjusted lending value for {x} shares: {liq_lv_x*100:.2f}%\")\n",
    "print(f\"Percentage difference from literature: {diff_x*100:.2f}%\")\n",
    "print()\n",
    "print(f\"Calculated standard lending value for {y} shares: {lv*100:.2f}%\")\n",
    "print(f\"Percentage difference from literature: {diff_lv*100:.2f}%\")\n",
    "print(f\"Calculated liquidity-adjusted lending value for {y} shares: {liq_lv_y*100:.2f}%\")\n",
    "print(f\"Percentage difference from literature: {diff_y*100:.2f}%\")"
   ]
  }
 ],
 "metadata": {
  "kernelspec": {
   "display_name": "riskmanagement",
   "language": "python",
   "name": "python3"
  },
  "language_info": {
   "codemirror_mode": {
    "name": "ipython",
    "version": 3
   },
   "file_extension": ".py",
   "mimetype": "text/x-python",
   "name": "python",
   "nbconvert_exporter": "python",
   "pygments_lexer": "ipython3",
   "version": "3.12.0"
  }
 },
 "nbformat": 4,
 "nbformat_minor": 2
}
